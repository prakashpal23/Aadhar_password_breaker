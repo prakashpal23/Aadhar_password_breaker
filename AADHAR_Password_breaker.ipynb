{
  "nbformat": 4,
  "nbformat_minor": 0,
  "metadata": {
    "colab": {
      "provenance": []
    },
    "kernelspec": {
      "name": "python3",
      "display_name": "Python 3"
    },
    "language_info": {
      "name": "python"
    }
  },
  "cells": [
    {
      "cell_type": "code",
      "source": [
        "import PyPDF2\n",
        "\n",
        "def generate_year_combinations():\n",
        "    return map(str, range(1990, 2000))\n",
        "\n",
        "def break_pdf_password(pdf_path, password):\n",
        "    try:\n",
        "        with open(pdf_path, 'rb') as pdf_file_obj:\n",
        "            pdf_reader = PyPDF2.PdfReader(pdf_file_obj)\n",
        "\n",
        "            if pdf_reader.is_encrypted:\n",
        "                if pdf_reader.decrypt(password):\n",
        "                    print(f\"Password '{password}' successfully decrypted the PDF.\")\n",
        "                    return True\n",
        "                else:\n",
        "                    print(f\"Password '{password}' did not decrypt the PDF.\")\n",
        "                    return False\n",
        "            else:\n",
        "                print(\"The PDF is not encrypted.\")\n",
        "                return False\n",
        "\n",
        "    except FileNotFoundError:\n",
        "        print(f\"Error: File '{pdf_path}' not found.\")\n",
        "        return False\n",
        "    except Exception as e:\n",
        "        print(f\"An error occurred: {str(e)}\")\n",
        "        return False\n",
        "\n",
        "def break_pdf_with_combinations(pdf_path, combinations_file):\n",
        "    pdf_reader = PyPDF2.PdfReader(pdf_path)\n",
        "    if not pdf_reader.is_encrypted:\n",
        "        print(\"The PDF is not encrypted.\")\n",
        "        return\n",
        "\n",
        "    iteration = 0\n",
        "    with open(combinations_file, 'r') as file:\n",
        "        for line in file:\n",
        "            prefix_password = line.strip()\n",
        "            for year in generate_year_combinations():\n",
        "                iteration += 1\n",
        "                print(f\"Iteration number: {iteration}\")\n",
        "                password = prefix_password + year\n",
        "                try:\n",
        "                    if break_pdf_password(pdf_path, password):\n",
        "\n",
        "                        return password\n",
        "                    else:\n",
        "                        continue\n",
        "                except Exception as e:\n",
        "                    print(f\"Iteration {iteration}: Error occurred while trying '{password}': {str(e)}\")\n",
        "                    continue\n",
        "    print(\"Password not found.\")\n",
        "    return None\n",
        "\n",
        "\n",
        "if __name__ == \"__main__\":\n",
        "    pdf_path = '/content/aadhar.pdf'\n",
        "    combinations_file = '/content/prefix_combinations.txt'\n",
        "    break_pdf_with_combinations(pdf_path, combinations_file)\n"
      ],
      "metadata": {
        "id": "yHtfzzeGfZ7l",
        "colab": {
          "base_uri": "https://localhost:8080/"
        },
        "outputId": "bc227a62-d387-4fa8-ebae-4e6ef0602fcf"
      },
      "execution_count": null,
      "outputs": [
        {
          "output_type": "stream",
          "name": "stdout",
    },
    {
      "cell_type": "code",
      "source": [
        "pip install PyPDF2"
      ],
      "metadata": {
        "id": "ljvIg2xFu1Nv",
        "colab": {
          "base_uri": "https://localhost:8080/"
        },
        "outputId": "96353351-f3e9-4dd6-cc62-f9be702fdcae"
      },
      "execution_count": 2,
      "outputs": [
        {
          "output_type": "stream",
          "name": "stdout",
          "text": [
            "Collecting PyPDF2\n",
            "  Downloading pypdf2-3.0.1-py3-none-any.whl (232 kB)\n",
            "\u001b[?25l     \u001b[90m━━━━━━━━━━━━━━━━━━━━━━━━━━━━━━━━━━━━━━━━\u001b[0m \u001b[32m0.0/232.6 kB\u001b[0m \u001b[31m?\u001b[0m eta \u001b[36m-:--:--\u001b[0m\r\u001b[2K     \u001b[90m━━━━━━━━━━━━━━━━━━━━━━━━━━━━━━━━━━━━━━━━\u001b[0m \u001b[32m232.6/232.6 kB\u001b[0m \u001b[31m8.6 MB/s\u001b[0m eta \u001b[36m0:00:00\u001b[0m\n",
            "\u001b[?25hInstalling collected packages: PyPDF2\n",
            "Successfully installed PyPDF2-3.0.1\n"
          ]
        }
      ]
    },
    {
      "cell_type": "code",
      "source": [],
      "metadata": {
        "id": "aQERJJYshP-p"
      },
      "execution_count": null,
      "outputs": []
    }
  ]
}
