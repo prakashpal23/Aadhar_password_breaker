{
  "cells": [
    {
      "cell_type": "code",
      "execution_count": null,
      "metadata": {},
      "outputs": [],
      "source": [
        "import PyPDF2\n",
        "\n",
        "def generate_year_combinations():\n",
        "    return map(str, range(1990, 2000))\n",
        "\n",
        "def break_pdf_password(pdf_path, password):\n",
        "    try:\n",
        "        with open(pdf_path, 'rb') as pdf_file_obj:\n",
        "            pdf_reader = PyPDF2.PdfReader(pdf_file_obj)\n",
        "\n",
        "            if pdf_reader.is_encrypted:\n",
        "                if pdf_reader.decrypt(password):\n",
        "                    print(f\"Password '{password}' successfully decrypted the PDF.\")\n",
        "                    return True\n",
        "                else:\n",
        "                    print(f\"Password '{password}' did not decrypt the PDF.\")\n",
        "                    return False\n",
        "            else:\n",
        "                print(\"The PDF is not encrypted.\")\n",
        "                return False\n",
        "\n",
        "    except FileNotFoundError:\n",
        "        print(f\"Error: File '{pdf_path}' not found.\")\n",
        "        return False\n",
        "    except Exception as e:\n",
        "        print(f\"An error occurred: {str(e)}\")\n",
        "        return False\n",
        "\n",
        "def break_pdf_with_combinations(pdf_path, combinations_file):\n",
        "    pdf_reader = PyPDF2.PdfReader(pdf_path)\n",
        "    if not pdf_reader.is_encrypted:\n",
        "        print(\"The PDF is not encrypted.\")\n",
        "        return\n",
        "\n",
        "    iteration = 0\n",
        "    with open(combinations_file, 'r') as file:\n",
        "        for line in file:\n",
        "            prefix_password = line.strip()\n",
        "            for year in generate_year_combinations():\n",
        "                iteration += 1\n",
        "                print(f\"Iteration number: {iteration}\")\n",
        "                password = prefix_password + year\n",
        "                try:\n",
        "                    if break_pdf_password(pdf_path, password):\n",
        "\n",
        "                        return password\n",
        "                    else:\n",
        "                        continue\n",
        "                except Exception as e:\n",
        "                    print(f\"Iteration {iteration}: Error occurred while trying '{password}': {str(e)}\")\n",
        "                    continue\n",
        "    print(\"Password not found.\")\n",
        "    return None\n",
        "\n",
        "\n",
        "if __name__ == \"__main__\":\n",
        "    pdf_path = '/content/aadhar.pdf'\n",
        "    combinations_file = '/content/prefix_combinations.txt'\n",
        "    break_pdf_with_combinations(pdf_path, combinations_file)\n"
      ]
    },
    {
      "cell_type": "code",
      "execution_count": null,
      "metadata": {
        "id": "aQERJJYshP-p"
      },
      "outputs": [],
      "source": []
    }
  ],
  "metadata": {
    "colab": {
      "provenance": []
    },
    "kernelspec": {
      "display_name": "Python 3",
      "name": "python3"
    },
    "language_info": {
      "name": "python"
    }
  },
  "nbformat": 4,
  "nbformat_minor": 0
}
